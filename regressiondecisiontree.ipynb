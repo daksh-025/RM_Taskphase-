{
  "cells": [
    {
      "cell_type": "code",
      "execution_count": 6,
      "metadata": {
        "id": "7hd3AARRkZ3k"
      },
      "outputs": [],
      "source": [
        "import numpy as np\n",
        "import matplotlib.pyplot as plt\n",
        "import pandas as pd\n"
      ]
    },
    {
      "cell_type": "code",
      "execution_count": 7,
      "metadata": {
        "colab": {
          "base_uri": "https://localhost:8080/"
        },
        "id": "HSfV-dfHklKi",
        "outputId": "77525e90-8188-4ecb-f821-fb581451f8fa"
      },
      "outputs": [
        {
          "name": "stdout",
          "output_type": "stream",
          "text": [
            "[[ 17   1   2 560]\n",
            " [ 17   0   2 753]\n",
            " [ 17   1   7 930]\n",
            " ...\n",
            " [  0   1   2 640]\n",
            " [  0   1   2 640]\n",
            " [  0   0   4 640]]\n",
            "[ 2660  1689 20060   736  1194  3305  2205  1167   532  1363  1245  1656\n",
            "  1379  2346  4006  2181   628  2463  1956  1802  3188  2129  7421  1122\n",
            "  1173  3625  3908  3994  1033  2860  3814  1132  1163   610  9530  1268\n",
            "  2582  1287  6594   909  2530  1534 14243  1699  7298   636   626  3782\n",
            "  1444  1183  3045  3624  6810  1409  1211  9606  1411   607  2932  5075\n",
            "   762  6329  1226  8223  1193  1076 17434  1647  3865   628   806 29188\n",
            "  4717 15129  1085  1607  1499  7648  1527  1483  2844  3124  1760  1278\n",
            "  1620  1220  1134  1235  1656  4072  1393   615   779  1385  1224  1779\n",
            "  1526   882  2075 12042  1309  1290  1280  1719  1102  1543  1174  1105\n",
            "  1335  1550  2473  1322  2553  2835  1191  1439  1237  1265  2280  1096\n",
            "  1156  1199  5615  2518   625  1246  1821  3101  1293  1176  1891 10584\n",
            "  2373   935  1395  1561  6912  1157  2197  2288  2348  1320  1139  2134\n",
            "  1407  1982  2539  1528  1513  1191  1280  3977  1269  1501  1396  1777\n",
            "   833   715  2936  1375  1330  1628  1368   622 14174  6425  8084  6762\n",
            " 26356  1305  1416   877   622  2082  1096  2028  1104  1093  2592  1125\n",
            "  3609  2118  1805  2825  1299  1413  2354   622  1214   887  1843  1275\n",
            "  2090  1111  3102   743  1505  1277  1096  1828  1581   607  1128  1976\n",
            "  4227  3315  2144  1283  1302  1725  2847  1947  7923  1669  1669   707\n",
            "  1404  1272   888  1161  2112  1286  1454   874  1753  2129  2149  1749\n",
            "  1317  1281   607  2330  5014  2029  1530  2220  1267  2057  1351 10649\n",
            "  2777  1915  1420  1337 20195  1096  2187  3023  1748  1141  1795  1436\n",
            "  1156  2195  1263  1324  8159  1874  1538  3257  1576  8631  1173  2401\n",
            "  2516  1446  1807  1307  1096  1395  1739  1298   921  8184  2051  1743\n",
            "  1156  1491  1286  1772  1437  2724  1291  1211  1096  1280   735  1280\n",
            "  1383  1660  1458  1427  1217  1096  1099  2711  1099   871  1418  2936\n",
            "  2543  4833  2570 10002  1385  6692   783  2255 12024  2089   627  1321\n",
            "   763  1688  1760  1306  3674  1348   622   767  1178   869 17524   625\n",
            "  3588  2925 10562  1436  9230 10756 11685  1711 48388   851   634  3656\n",
            "   616  1688 16520  1786   972  2117  8050  9932  1422  1381  2877  2805\n",
            "  4412 11125  1818  4296  1887  1418  1136  1475  1099  1538  1651  1106\n",
            "  1097  1273  1362  3342 11877   547  5568  4288  5788  2238  1283  2531\n",
            " 13112  3497  1832  1685  1135  1156   548  1303  1890  1285  1674  1128\n",
            "  2595  1782  1251  1997   532  1758  1369  1096  1477   840  1340  1236\n",
            "  4677  3285 10585  1808  1051  2201  3041   550  1156  3800  1039  1769\n",
            "  1794  1578  1153  1883  1535  1200  1946  1875  1908  2080  1408  2008\n",
            "  2977  1278  1408  1083  1964  1231  1845  1428  2735  5934  1888  1431\n",
            "  9129   651  3969  1363  1118  1543   678  1463  8439  4304  1890  1933\n",
            "  1281  1160  1120  1164  1083  1465  1083  1768  2296  1284  2632  1952\n",
            "  2100  2217  1281  1250  8398  1263  1178 13040  1517  3126  2049  1245\n",
            "  3578  1603  2840  1411  1175  1689  2023  1310  2540 10431  2204  2218\n",
            "  1382  1115   629   825  1701  1273  1270  1106  1065  1264  1282  1393\n",
            "  3074  1266  1886  5881  1171  1171  1086  4931]\n"
          ]
        }
      ],
      "source": [
        "dataset=pd.read_csv(\"linregdataset.csv\")\n",
        "X=dataset.iloc[:,[0,1,2,5]].values\n",
        "Y=dataset.iloc[:,-2].values\n",
        "print(X)\n",
        "print(Y)\n",
        "\n",
        "\n"
      ]
    },
    {
      "cell_type": "code",
      "execution_count": 10,
      "metadata": {
        "id": "t76c-5h0mJiQ"
      },
      "outputs": [],
      "source": [
        "from sklearn.model_selection import train_test_split\n",
        "X_train, X_test, Y_train, Y_test = train_test_split(X, Y, test_size = 0.2, random_state = 0)"
      ]
    },
    {
      "cell_type": "code",
      "execution_count": 11,
      "metadata": {
        "colab": {
          "base_uri": "https://localhost:8080/"
        },
        "id": "lAqTFOLykrM5",
        "outputId": "cbe8afed-b8e4-4459-d369-c7a5f87ccac8"
      },
      "outputs": [
        {
          "name": "stdout",
          "output_type": "stream",
          "text": [
            "[[ 0  1  2  0]\n",
            " [17  1  1  0]\n",
            " [ 0  1 41  0]\n",
            " ...\n",
            " [ 0  0  2  0]\n",
            " [ 1  0  2 -3]\n",
            " [15  1  1  0]]\n",
            "[[ 0  0  2 -2]\n",
            " [ 0  0  2  0]\n",
            " [ 0  1  2  0]\n",
            " [10  1  2  0]\n",
            " [ 0  0  2  0]\n",
            " [15  1  4  0]\n",
            " [13  1  6  0]\n",
            " [ 0  0  2  0]\n",
            " [ 0  0  2  0]\n",
            " [ 0  0  2  0]\n",
            " [ 0  1  3  0]\n",
            " [ 0  0  3  0]\n",
            " [ 0  0  2  0]\n",
            " [ 0  1  3  0]\n",
            " [ 0  0  2  0]\n",
            " [14  0  4 -3]\n",
            " [16  0  1  0]\n",
            " [ 0  1  2  0]\n",
            " [ 0  1  2  0]\n",
            " [16  1  2  0]\n",
            " [17  0  5  0]\n",
            " [ 0  0  6  0]\n",
            " [ 0  1  3  0]\n",
            " [ 0  0  2  0]\n",
            " [16  1  1  0]\n",
            " [14  0  1  0]\n",
            " [17  1  2  0]\n",
            " [ 0  1  7  0]\n",
            " [ 0  0  2  0]\n",
            " [ 0  1  3  0]\n",
            " [14  1  5  0]\n",
            " [ 0  1  4  0]\n",
            " [15  0  0  0]\n",
            " [16  1  2  0]\n",
            " [ 0  0  3  0]\n",
            " [15  1  4  0]\n",
            " [14  1  2  0]\n",
            " [ 0  0  2  0]\n",
            " [ 0  1  2  0]\n",
            " [ 0  0  2  0]\n",
            " [10  0  7 -1]\n",
            " [15  1  1  0]\n",
            " [ 0  0  1  0]\n",
            " [ 0  0  2  0]\n",
            " [ 0  1  3  0]\n",
            " [17  0  2  0]\n",
            " [ 0  0  3  0]\n",
            " [10  0  0 -1]\n",
            " [ 0  0  2  0]\n",
            " [ 0  0  2  0]\n",
            " [ 0  0  3  0]\n",
            " [ 0  0  2  0]\n",
            " [17  1  4 -3]\n",
            " [ 0  0  2  0]\n",
            " [13  1  3  0]\n",
            " [15  1  2  0]\n",
            " [17  1  2  0]\n",
            " [ 0  1  4  0]\n",
            " [17  0  3  0]\n",
            " [ 1  0  2 -3]\n",
            " [ 0  1  2  0]\n",
            " [ 0  1  2  0]\n",
            " [ 0  0  3  0]\n",
            " [ 0  0  2  0]\n",
            " [17  0  1  1]\n",
            " [ 0  1  3  0]\n",
            " [17  1  2  0]\n",
            " [ 0  1  3  0]\n",
            " [ 0  1  2  0]\n",
            " [ 0  0  3  0]\n",
            " [ 0  1  2  0]\n",
            " [13  1  2  0]\n",
            " [14  1  1  0]\n",
            " [ 0  0  3  0]\n",
            " [ 0  0  3  0]\n",
            " [ 0  1  2  0]\n",
            " [ 0  0  3  0]\n",
            " [ 0  0  2  0]\n",
            " [ 0  0  2  0]\n",
            " [16  1  2  1]\n",
            " [16  0  1 -1]\n",
            " [ 0  0  3  0]\n",
            " [12  0  2  0]\n",
            " [ 0  1  2  0]\n",
            " [15  0 18  0]\n",
            " [ 9  0  3 -2]\n",
            " [ 0  0  2  0]\n",
            " [ 0  1  1  0]\n",
            " [ 0  0  2 -2]\n",
            " [13  0  2  0]\n",
            " [16  0  1  0]\n",
            " [ 0  1  4  0]\n",
            " [ 0  1  2  0]\n",
            " [ 0  0  2  0]\n",
            " [13  0  1  0]\n",
            " [ 0  1 23  0]\n",
            " [ 1  1  1 -2]\n",
            " [17  0  3 -2]\n",
            " [14  1  1  0]\n",
            " [13  1  2  0]]\n",
            "[ 1105   616 29188  2023  2205  1535  2835  1267  2936  1777   921  1167\n",
            "  1157   532 13040  9129  1685  1096  2847  1214  1888  1183  1395   547\n",
            "  1200 10649  5075  1039  1096  1883  1273  1281   871  9606  1096  1282\n",
            "  1281  2217  1284  2354  3102  6810  1085  3908  1065  1194   622  1711\n",
            "  1096  3305  1320  1128  1561  1266  5615  7421  3865  3188  1674  4006\n",
            "  1286  2129  1193  1285  2330  3124  2201  2570  4931  1411  1952  1330\n",
            "  2204 11877  1171  2144   767  3624   783  2296 48388 14174  1174  1115\n",
            "  8223  1422  1428  1463  1178  4072   763  1083  1385  1418  1250 12024\n",
            "  1236   779  1956  1096  1982  2936  1280  2218  6762  1324   607  1408\n",
            " 17434  2089  2195  2348  1290   651 20060  1794  2463  2539  1141  2401\n",
            "  3814  1191  3023  1719  3800   627  1104  2187  1237 26356  1875  1156\n",
            "  8631  2553  1097  1363  1291  6912  1843  2805  2118  1821  2724  1156\n",
            "  1769   840  1136  5014   935   610  2540  1368  9530  7298   882  1220\n",
            "  6329  1828  1096   888 15129  1268 10002  2860  1273  1477  1933  1272\n",
            "  3994  1808  1890   833  5934  1381  2197  7923  1102  1818  2877  4296\n",
            "   707  1782   887  1669  4227  1530  3257  1647  1173  1404   874  1176\n",
            "  1322  8084  2080  1340  2530  2051  1538  1483  1688  1306  2346  1280\n",
            "  1578  1886  1317  1628  1278  1171  1689  2473  1191  1269   628  1786\n",
            "  1550  1887  2288  2057  1576  2008  1348  5881  1051  1748  1251  1802\n",
            "  9230  1099  1395  2149  1946   736   548  1246  1437   735  7648  1299\n",
            "  1964 10431  1743  1099  1118  1805  1164  2844  2255  1538  1656  2531\n",
            "  1134  1807  2582  1382  2932  1534  1739  3045  1725  3285  1153  1908\n",
            "  2518  1454  1226  1156  1891   622  1122  1699  4304  2660   607  5788\n",
            "  1845  2075 11125  1385  1106  2592  2238  8159  1224  3126  1779  1890\n",
            "  1305   628  6692  1444  2117  3497  1283  1772  1749  1513  2134   634\n",
            "  3609  1099 10584  1178  1086  1173  3588  1976  1620  1199   629  3969\n",
            "  8398  2632  2595   615  1760  1307  1096  1651  1427   607   869  1874\n",
            "  1135  1120 14243  1543   532  1245  8184  1281  6594  1758  1409  2977\n",
            "  1543  1293  1458  1033  2825  1283   622  3977 20195  1128  1132  1163\n",
            "  3101  1413  2840  1465  1383  1083 10585  2100  1528  1280  2049  1093\n",
            " 12042 16520  1083  1431  3656  1277  1337  1517  1439  1156  1446  4717\n",
            "   851  3625  6425  1688   825  1096  1270   909  1111  1760  4677  1656\n",
            "  1175   806  1235  1217  1420  1491  1947  1363  1106   743  1436   625\n",
            "  2090  1265  3782   622]\n",
            "[ 1393  1263  1211  1160  1263  2181  3674  1264  1375  1501  1915  1795\n",
            "  1369  1660   877 10756  3578  1475  1396  1287  3315  5568  2777  1335\n",
            "   636   678  2129  4288  1526  2029  2735  2280   625  1275  1832  3074\n",
            "  1321  1768  1418  1351 17524   626   550  1286  1499  1689  1669  2925\n",
            "  1408  1280  3342  1416  9932  1407  2373  1379  1436  2082  1753  8050\n",
            "  1527  1156  1997  1231  4833  1505  1245  1603  1298  1607  1139  1076\n",
            "   972  1701  2028  1362  2516  1309  1393  2711  2543  2220  1310  1161\n",
            " 11685 10562  1278   715  4412  1211  2112  3041  1303  1581  1125 13112\n",
            "  1411  8439   762  1302]\n"
          ]
        }
      ],
      "source": [
        "from sklearn.preprocessing import StandardScaler\n",
        "sc = StandardScaler()\n",
        "X_train[:, [3]] = sc.fit_transform(X_train[:, [3]])\n",
        "X_test[:, [3]] = sc.transform(X_test[:, [3]])\n",
        "print(X_train)\n",
        "print(X_test)\n",
        "print(Y_train)\n",
        "print(Y_test)"
      ]
    },
    {
      "cell_type": "code",
      "execution_count": 12,
      "metadata": {
        "colab": {
          "base_uri": "https://localhost:8080/"
        },
        "id": "rS4Oy0OmkwpB",
        "outputId": "be05db8b-7b80-4b14-a87c-5c6fec3d021c"
      },
      "outputs": [
        {
          "data": {
            "text/plain": [
              "DecisionTreeRegressor(random_state=0)"
            ]
          },
          "execution_count": 12,
          "metadata": {},
          "output_type": "execute_result"
        }
      ],
      "source": [
        "from sklearn.tree import DecisionTreeRegressor\n",
        "regressor=DecisionTreeRegressor(random_state=0)\n",
        "regressor.fit(X_train,Y_train)"
      ]
    },
    {
      "cell_type": "code",
      "execution_count": 14,
      "metadata": {
        "id": "jdkvuv8QmD5r"
      },
      "outputs": [],
      "source": [
        " predictions= regressor.predict(X_test)"
      ]
    },
    {
      "cell_type": "code",
      "execution_count": 17,
      "metadata": {
        "colab": {
          "base_uri": "https://localhost:8080/",
          "height": 855
        },
        "id": "_ibUtElGoJcb",
        "outputId": "cc80d2fc-56da-447d-f220-6b5b4ea257a9"
      },
      "outputs": [
        {
          "name": "stdout",
          "output_type": "stream",
          "text": [
            "[ 1393  1263  1211  1160  1263  2181  3674  1264  1375  1501  1915  1795\n",
            "  1369  1660   877 10756  3578  1475  1396  1287  3315  5568  2777  1335\n",
            "   636   678  2129  4288  1526  2029  2735  2280   625  1275  1832  3074\n",
            "  1321  1768  1418  1351 17524   626   550  1286  1499  1689  1669  2925\n",
            "  1408  1280  3342  1416  9932  1407  2373  1379  1436  2082  1753  8050\n",
            "  1527  1156  1997  1231  4833  1505  1245  1603  1298  1607  1139  1076\n",
            "   972  1701  2028  1362  2516  1309  1393  2711  2543  2220  1310  1161\n",
            " 11685 10562  1278   715  4412  1211  2112  3041  1303  1581  1125 13112\n",
            "  1411  8439   762  1302]\n",
            "[ 4347.          1398.5915493   1211.37096774  1534.\n",
            "  1398.5915493   2300.5         3656.          1398.5915493\n",
            "  1398.5915493   1398.5915493   1909.60714286  2026.86666667\n",
            "  1398.5915493   1909.60714286  1398.5915493   9129.\n",
            "   646.          1211.37096774  1211.37096774  1259.4\n",
            "  2835.          9307.5         1909.60714286  1398.5915493\n",
            "   646.           706.33333333  2080.          6211.33333333\n",
            "  1398.5915493   1909.60714286  3334.5         2615.\n",
            "   607.          1259.4         2026.86666667  2300.5\n",
            "  1363.33333333  1398.5915493   1211.37096774  1398.5915493\n",
            " 16520.           745.          1212.5         1398.5915493\n",
            "  1909.60714286  1965.33333333  2026.86666667  2530.\n",
            "  1398.5915493   1398.5915493   2026.86666667  1398.5915493\n",
            "  3023.          1398.5915493   1990.5         1363.33333333\n",
            "  2080.          2615.          2089.          3782.\n",
            "  1211.37096774  1211.37096774  2026.86666667  1398.5915493\n",
            "  2570.          1909.60714286  2080.          1909.60714286\n",
            "  1211.37096774  2026.86666667  1211.37096774  1239.5\n",
            "   706.33333333  2026.86666667  2026.86666667  1211.37096774\n",
            "  2026.86666667  1398.5915493   1398.5915493   2570.\n",
            "  8159.          2026.86666667  1285.          1211.37096774\n",
            " 10649.          2860.          1398.5915493    833.\n",
            "  4347.          1273.           646.          2615.\n",
            "  1211.37096774  1398.5915493    607.         10649.\n",
            "  1688.         14174.           706.33333333  1239.5       ]\n"
          ]
        },
        {
          "data": {
            "image/png": "[encoded data removed]",
            "text/plain": [
              "<Figure size 432x288 with 1 Axes>"
            ]
          },
          "metadata": {
            "needs_background": "light"
          },
          "output_type": "display_data"
        }
      ],
      "source": [
        "plt.figure()#graphical representation of the predicted vs true values\n",
        "print(Y_test)\n",
        "print(predictions)\n",
        "plt.scatter(x=list(range(0, 100)),y= Y_test, color='blue')         \n",
        "plt.scatter(x=list(range(0, 100)), y=predictions, color='black')\n",
        "plt.show()"
      ]
    }
  ],
  "metadata": {
    "colab": {
      "name": "Untitled2.ipynb",
      "provenance": []
    },
    "kernelspec": {
      "display_name": "Python 3",
      "name": "python3"
    },
    "language_info": {
      "name": "python"
    }
  },
  "nbformat": 4,
  "nbformat_minor": 0
}
