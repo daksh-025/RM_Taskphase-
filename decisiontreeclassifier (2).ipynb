{
  "cells": [
    {
      "cell_type": "code",
      "execution_count": null,
      "metadata": {
        "id": "q8SC69BVOg0S"
      },
      "outputs": [],
      "source": [
        "import numpy as np\n",
        "import matplotlib.pyplot as plt\n",
        "import pandas as pd"
      ]
    },
    {
      "cell_type": "code",
      "execution_count": null,
      "metadata": {
        "colab": {
          "base_uri": "https://localhost:8080/"
        },
        "id": "8fWOBAfpPNd8",
        "outputId": "70939540-03bb-4a72-a95e-78250a0fb651"
      },
      "outputs": [
        {
          "output_type": "stream",
          "name": "stdout",
          "text": [
            "[['Albury' 13.4 22.9 ... 16.9 21.8 'No']\n",
            " ['Albury' 7.4 25.1 ... 17.2 24.3 'No']\n",
            " ['Albury' 12.9 25.7 ... 21.0 23.2 'No']\n",
            " ...\n",
            " ['Uluru' 5.4 26.9 ... 12.5 26.1 'No']\n",
            " ['Uluru' 7.8 27.0 ... 15.1 26.0 'No']\n",
            " ['Uluru' 14.9 nan ... 15.0 20.9 'No']]\n",
            "['No' 'No' 'No' ... 'No' 'No' nan]\n"
          ]
        }
      ],
      "source": [
        "dataset=pd.read_csv(\"weatherAUS.csv\")\n",
        "X=dataset.iloc[:,1:-1].values\n",
        "Y=dataset.iloc[:,-1].values\n",
        "print(X)\n",
        "print(Y)"
      ]
    },
    {
      "cell_type": "code",
      "execution_count": null,
      "metadata": {
        "colab": {
          "base_uri": "https://localhost:8080/"
        },
        "id": "84RkeGn4PR9q",
        "outputId": "fc36bac3-cfa0-49fe-d496-1dfd4df5f4d0"
      },
      "outputs": [
        {
          "output_type": "stream",
          "name": "stdout",
          "text": [
            "[[0.0 0.0 1.0 ... 16.9 21.8 'No']\n",
            " [0.0 0.0 1.0 ... 17.2 24.3 'No']\n",
            " [0.0 0.0 1.0 ... 21.0 23.2 'No']\n",
            " ...\n",
            " [0.0 0.0 0.0 ... 12.5 26.1 'No']\n",
            " [0.0 0.0 0.0 ... 15.1 26.0 'No']\n",
            " [0.0 0.0 0.0 ... 15.0 20.9 'No']]\n"
          ]
        }
      ],
      "source": [
        "from sklearn.compose import ColumnTransformer\n",
        "from sklearn.preprocessing import OneHotEncoder\n",
        "ct = ColumnTransformer(transformers=[('encoder', OneHotEncoder(), [0])], remainder='passthrough')\n",
        "X = np.array(ct.fit_transform(X))\n",
        "print(X)"
      ]
    },
    {
      "cell_type": "code",
      "execution_count": null,
      "metadata": {
        "colab": {
          "base_uri": "https://localhost:8080/"
        },
        "id": "v9BXOwrzPV0J",
        "outputId": "b3b1fe15-6a5e-4400-81d8-bbec652f053d"
      },
      "outputs": [
        {
          "output_type": "stream",
          "name": "stdout",
          "text": [
            "['W' 'WNW' 'WSW' ... 'N' 'SE' nan]\n"
          ]
        }
      ],
      "source": [
        "print(X[:,54])"
      ]
    },
    {
      "cell_type": "code",
      "execution_count": null,
      "metadata": {
        "id": "KftiZ5LWQynM"
      },
      "outputs": [],
      "source": []
    },
    {
      "cell_type": "code",
      "execution_count": null,
      "metadata": {
        "id": "0pg512YtQwVE"
      },
      "outputs": [],
      "source": []
    },
    {
      "cell_type": "code",
      "execution_count": null,
      "metadata": {
        "colab": {
          "base_uri": "https://localhost:8080/"
        },
        "id": "x3L0ANL9PYy7",
        "outputId": "edd28265-f227-45bd-8b97-3f17dc5daac4"
      },
      "outputs": [
        {
          "output_type": "stream",
          "name": "stdout",
          "text": [
            "[[0.0 0.0 0.0 ... 16.9 21.8 'No']\n",
            " [0.0 0.0 0.0 ... 17.2 24.3 'No']\n",
            " [0.0 0.0 0.0 ... 21.0 23.2 'No']\n",
            " ...\n",
            " [0.0 0.0 0.0 ... 12.5 26.1 'No']\n",
            " [0.0 0.0 0.0 ... 15.1 26.0 'No']\n",
            " [0.0 0.0 0.0 ... 15.0 20.9 'No']]\n"
          ]
        }
      ],
      "source": [
        "from sklearn.compose import ColumnTransformer\n",
        "from sklearn.preprocessing import OneHotEncoder\n",
        "ct = ColumnTransformer(transformers=[('encoder', OneHotEncoder(), [54,56,57])], remainder='passthrough')\n",
        "X = np.array(ct.fit_transform(X))\n",
        "print(X)"
      ]
    },
    {
      "cell_type": "code",
      "execution_count": null,
      "metadata": {
        "id": "jbfpWdW9PcfZ"
      },
      "outputs": [],
      "source": [
        "from sklearn.preprocessing import LabelEncoder\n",
        "\n",
        "le = LabelEncoder()\n",
        "\n",
        "Y= le.fit_transform(Y)\n",
        "X[:,-1]=le.fit_transform(X[:,-1])\n",
        "Y=le.fit_transform(Y)\n",
        "\n"
      ]
    },
    {
      "cell_type": "code",
      "execution_count": null,
      "metadata": {
        "colab": {
          "base_uri": "https://localhost:8080/"
        },
        "id": "OX_4ZDjCPfMo",
        "outputId": "8e7a3680-c4a4-44fe-e2c6-c0662a3a246f"
      },
      "outputs": [
        {
          "output_type": "stream",
          "name": "stdout",
          "text": [
            "[[0.0 0.0 0.0 ... 16.9 21.8 0]\n",
            " [0.0 0.0 0.0 ... 17.2 24.3 0]\n",
            " [0.0 0.0 0.0 ... 21.0 23.2 0]\n",
            " ...\n",
            " [0.0 0.0 0.0 ... 12.5 26.1 0]\n",
            " [0.0 0.0 0.0 ... 15.1 26.0 0]\n",
            " [0.0 0.0 0.0 ... 15.0 20.9 0]]\n",
            "[0 0 0 ... 0 0 2]\n"
          ]
        }
      ],
      "source": [
        "print(X)\n",
        "print(Y)"
      ]
    },
    {
      "cell_type": "code",
      "execution_count": null,
      "metadata": {
        "id": "B2teJb-hPmSq"
      },
      "outputs": [],
      "source": [
        "from sklearn.impute import SimpleImputer\n",
        "imputer = SimpleImputer(missing_values=np.nan, strategy='mean')\n",
        "imputer.fit(X[:, :-1])\n",
        "X[:, :-1] = imputer.transform(X[:,:-1] )"
      ]
    },
    {
      "cell_type": "code",
      "source": [
        "from sklearn.model_selection import train_test_split\n",
        "X_train, X_test, Y_train, Y_test = train_test_split(X, Y, test_size = 0.2, random_state = 1)"
      ],
      "metadata": {
        "id": "eOLGeHzbPIXD"
      },
      "execution_count": null,
      "outputs": []
    },
    {
      "cell_type": "code",
      "execution_count": null,
      "metadata": {
        "colab": {
          "base_uri": "https://localhost:8080/"
        },
        "id": "I9eVYkZvPoka",
        "outputId": "7a7805ee-f5cf-4ff4-8a72-e418438598cf"
      },
      "outputs": [
        {
          "output_type": "execute_result",
          "data": {
            "text/plain": [
              "DecisionTreeClassifier(criterion='entropy', random_state=0)"
            ]
          },
          "metadata": {},
          "execution_count": 18
        }
      ],
      "source": [
        "from sklearn.tree import DecisionTreeClassifier\n",
        "classifier=DecisionTreeClassifier(criterion='entropy',random_state=0)\n",
        "classifier.fit(X_train,Y_train)\n"
      ]
    },
    {
      "cell_type": "code",
      "execution_count": null,
      "metadata": {
        "colab": {
          "base_uri": "https://localhost:8080/"
        },
        "id": "sKXEOPgOPr3h",
        "outputId": "1b6c5c24-05e0-4982-eb36-5246d38e48e8"
      },
      "outputs": [
        {
          "output_type": "stream",
          "name": "stdout",
          "text": [
            "[1 0 1 ... 0 0 1]\n"
          ]
        }
      ],
      "source": [
        "\n",
        "predictions=classifier.predict(X_test)\n",
        "print(predictions)\n"
      ]
    },
    {
      "cell_type": "code",
      "execution_count": null,
      "metadata": {
        "colab": {
          "base_uri": "https://localhost:8080/"
        },
        "id": "I5ejgT-IxyBs",
        "outputId": "8fe16f9a-e90b-4e46-abe2-0fc307656a06"
      },
      "outputs": [
        {
          "output_type": "execute_result",
          "data": {
            "text/plain": [
              "0.7742678399560017"
            ]
          },
          "metadata": {},
          "execution_count": 20
        }
      ],
      "source": [
        "from sklearn.metrics import  accuracy_score\n",
        "accuracy_score(Y_test, predictions)\n",
        "\n"
      ]
    }
  ],
  "metadata": {
    "colab": {
      "provenance": []
    },
    "kernelspec": {
      "display_name": "Python 3",
      "name": "python3"
    },
    "language_info": {
      "name": "python"
    }
  },
  "nbformat": 4,
  "nbformat_minor": 0
}