{
  "nbformat": 4,
  "nbformat_minor": 0,
  "metadata": {
    "colab": {
      "provenance": []
    },
    "kernelspec": {
      "name": "python3",
      "display_name": "Python 3"
    },
    "language_info": {
      "name": "python"
    }
  },
  "cells": [
    {
      "cell_type": "code",
      "execution_count": null,
      "metadata": {
        "id": "q8SC69BVOg0S"
      },
      "outputs": [],
      "source": [
        "import numpy as np\n",
        "import matplotlib.pyplot as plt\n",
        "import pandas as pd"
      ]
    },
    {
      "cell_type": "code",
      "source": [
        "dataset=pd.read_csv(\"weatherAUS.csv\")\n",
        "X=dataset.iloc[:,1:].values\n",
        "\n",
        "print(X)\n"
      ],
      "metadata": {
        "colab": {
          "base_uri": "https://localhost:8080/"
        },
        "id": "8fWOBAfpPNd8",
        "outputId": "7dbfd5cb-0cec-4e0c-8140-c60764c3d4c6"
      },
      "execution_count": null,
      "outputs": [
        {
          "output_type": "stream",
          "name": "stdout",
          "text": [
            "[['Albury' 13.4 22.9 ... 21.8 'No' 'No']\n",
            " ['Albury' 7.4 25.1 ... 24.3 'No' 'No']\n",
            " ['Albury' 12.9 25.7 ... 23.2 'No' 'No']\n",
            " ...\n",
            " ['Uluru' 5.4 26.9 ... 26.1 'No' 'No']\n",
            " ['Uluru' 7.8 27.0 ... 26.0 'No' 'No']\n",
            " ['Uluru' 14.9 nan ... 20.9 'No' nan]]\n"
          ]
        }
      ]
    },
    {
      "cell_type": "code",
      "source": [
        "from sklearn.compose import ColumnTransformer\n",
        "from sklearn.preprocessing import OneHotEncoder\n",
        "ct = ColumnTransformer(transformers=[('encoder', OneHotEncoder(), [0])], remainder='passthrough')\n",
        "X = np.array(ct.fit_transform(X))\n",
        "print(X)"
      ],
      "metadata": {
        "colab": {
          "base_uri": "https://localhost:8080/"
        },
        "id": "84RkeGn4PR9q",
        "outputId": "c406c14d-ca16-4a49-e411-67fb709b63e7"
      },
      "execution_count": null,
      "outputs": [
        {
          "output_type": "stream",
          "name": "stdout",
          "text": [
            "[[0.0 0.0 1.0 ... 21.8 'No' 'No']\n",
            " [0.0 0.0 1.0 ... 24.3 'No' 'No']\n",
            " [0.0 0.0 1.0 ... 23.2 'No' 'No']\n",
            " ...\n",
            " [0.0 0.0 0.0 ... 26.1 'No' 'No']\n",
            " [0.0 0.0 0.0 ... 26.0 'No' 'No']\n",
            " [0.0 0.0 0.0 ... 20.9 'No' nan]]\n"
          ]
        }
      ]
    },
    {
      "cell_type": "code",
      "source": [
        "print(X[:,54])"
      ],
      "metadata": {
        "colab": {
          "base_uri": "https://localhost:8080/"
        },
        "id": "v9BXOwrzPV0J",
        "outputId": "d4155128-6063-4a3f-ff7a-3629e0598e8c"
      },
      "execution_count": null,
      "outputs": [
        {
          "output_type": "stream",
          "name": "stdout",
          "text": [
            "['W' 'WNW' 'WSW' ... 'N' 'SE' nan]\n"
          ]
        }
      ]
    },
    {
      "cell_type": "code",
      "source": [],
      "metadata": {
        "id": "KftiZ5LWQynM"
      },
      "execution_count": null,
      "outputs": []
    },
    {
      "cell_type": "code",
      "source": [],
      "metadata": {
        "id": "0pg512YtQwVE"
      },
      "execution_count": null,
      "outputs": []
    },
    {
      "cell_type": "code",
      "source": [
        "from sklearn.compose import ColumnTransformer\n",
        "from sklearn.preprocessing import OneHotEncoder\n",
        "ct = ColumnTransformer(transformers=[('encoder', OneHotEncoder(), [54,56,57])], remainder='passthrough')\n",
        "X = np.array(ct.fit_transform(X))\n",
        "print(X)"
      ],
      "metadata": {
        "colab": {
          "base_uri": "https://localhost:8080/"
        },
        "id": "x3L0ANL9PYy7",
        "outputId": "cfac7a6d-bc1e-4fe6-81dd-e0dccd35e520"
      },
      "execution_count": null,
      "outputs": [
        {
          "output_type": "stream",
          "name": "stdout",
          "text": [
            "[[0.0 0.0 0.0 ... 21.8 'No' 'No']\n",
            " [0.0 0.0 0.0 ... 24.3 'No' 'No']\n",
            " [0.0 0.0 0.0 ... 23.2 'No' 'No']\n",
            " ...\n",
            " [0.0 0.0 0.0 ... 26.1 'No' 'No']\n",
            " [0.0 0.0 0.0 ... 26.0 'No' 'No']\n",
            " [0.0 0.0 0.0 ... 20.9 'No' nan]]\n"
          ]
        }
      ]
    },
    {
      "cell_type": "code",
      "source": [
        "from sklearn.preprocessing import LabelEncoder\n",
        "\n",
        "le = LabelEncoder()\n",
        "\n",
        "\n",
        "X[:,-1]=le.fit_transform(X[:,-1])\n",
        "X[:,-2]=le.fit_transform(X[:,-2])\n",
        "\n",
        "\n",
        "\n"
      ],
      "metadata": {
        "id": "jbfpWdW9PcfZ"
      },
      "execution_count": null,
      "outputs": []
    },
    {
      "cell_type": "code",
      "source": [
        "print(X)\n"
      ],
      "metadata": {
        "colab": {
          "base_uri": "https://localhost:8080/"
        },
        "id": "OX_4ZDjCPfMo",
        "outputId": "de378fd3-b1a0-4459-895e-079e45d57a34"
      },
      "execution_count": null,
      "outputs": [
        {
          "output_type": "stream",
          "name": "stdout",
          "text": [
            "[[0.0 0.0 0.0 ... 21.8 0 0]\n",
            " [0.0 0.0 0.0 ... 24.3 0 0]\n",
            " [0.0 0.0 0.0 ... 23.2 0 0]\n",
            " ...\n",
            " [0.0 0.0 0.0 ... 26.1 0 0]\n",
            " [0.0 0.0 0.0 ... 26.0 0 0]\n",
            " [0.0 0.0 0.0 ... 20.9 0 2]]\n"
          ]
        }
      ]
    },
    {
      "cell_type": "code",
      "source": [
        "from sklearn.impute import SimpleImputer\n",
        "imputer = SimpleImputer(missing_values=np.nan, strategy='mean')\n",
        "imputer.fit(X[:, :])\n",
        "X[:, :] = imputer.transform(X[:,:] )"
      ],
      "metadata": {
        "id": "B2teJb-hPmSq"
      },
      "execution_count": null,
      "outputs": []
    },
    {
      "cell_type": "code",
      "source": [
        "from sklearn.preprocessing import StandardScaler\n",
        "sc = StandardScaler()\n",
        "X[:, :] = sc.fit_transform(X[:,:])\n",
        "print(X)\n"
      ],
      "metadata": {
        "id": "rkshMVuxRiEk",
        "outputId": "b08e60fe-558a-42f5-c1bc-418b4b194ebb",
        "colab": {
          "base_uri": "https://localhost:8080/"
        }
      },
      "execution_count": null,
      "outputs": [
        {
          "output_type": "stream",
          "name": "stdout",
          "text": [
            "[[-0.25955567248174444 -0.242899096084587 -0.23105463953714103 ...\n",
            "  0.017023228228163437 -0.5398604685294461 -0.5398609299883909]\n",
            " [-0.25955567248174444 -0.242899096084587 -0.23105463953714103 ...\n",
            "  0.38198495219120704 -0.5398604685294461 -0.5398609299883909]\n",
            " [-0.25955567248174444 -0.242899096084587 -0.23105463953714103 ...\n",
            "  0.22140179364746765 -0.5398604685294461 -0.5398609299883909]\n",
            " ...\n",
            " [-0.25955567248174444 -0.242899096084587 -0.23105463953714103 ...\n",
            "  0.6447573934445985 -0.5398604685294461 -0.5398609299883909]\n",
            " [-0.25955567248174444 -0.242899096084587 -0.23105463953714103 ...\n",
            "  0.6301589244860766 -0.5398604685294461 -0.5398609299883909]\n",
            " [-0.25955567248174444 -0.242899096084587 -0.23105463953714103 ...\n",
            "  -0.11436299239853256 -0.5398604685294461 3.548976688199698]]\n"
          ]
        }
      ]
    },
    {
      "cell_type": "code",
      "source": [
        "from sklearn.cluster import KMeans\n",
        "wcss=[]\n",
        "for i in range(1,5):\n",
        "  kmeans=KMeans(n_clusters=i,init='k-means++',random_state=0)\n",
        "  kmeans.fit(X)\n",
        "  wcss.append(kmeans.inertia_)\n",
        "  print(wcss)\n",
        "plt.plot(range(1,5),wcss)\n",
        "plt.title('the elbow method')\n",
        "plt.xlabel('the no of clusters')\n",
        "plt.ylabel('wcss')\n",
        "plt.show()"
      ],
      "metadata": {
        "id": "5PrIJQDwBD5b",
        "colab": {
          "base_uri": "https://localhost:8080/",
          "height": 368
        },
        "outputId": "7d962bc5-d8be-4b5c-8bf3-2e1a875a1c5e"
      },
      "execution_count": null,
      "outputs": [
        {
          "output_type": "stream",
          "name": "stdout",
          "text": [
            "[17164280.000003412]\n",
            "[17164280.000003412, 16610061.42601915]\n",
            "[17164280.000003412, 16610061.42601915, 16332383.7538016]\n",
            "[17164280.000003412, 16610061.42601915, 16332383.7538016, 16049297.40161423]\n"
          ]
        },
        {
          "output_type": "display_data",
          "data": {
            "image/png": "[encoded data removed]",
            "text/plain": [
              "<Figure size 432x288 with 1 Axes>"
            ]
          },
          "metadata": {
            "needs_background": "light"
          }
        }
      ]
    },
    {
      "cell_type": "code",
      "source": [
        "#the no of clusters according to the elbow graph should be 4\n",
        "from sklearn.cluster import KMeans\n",
        "kmeans=KMeans(n_clusters=4,init='k-means++',random_state=0)\n",
        "y_kmeans=kmeans.fit_predict(X)\n",
        "print(y_kmeans)\n"
      ],
      "metadata": {
        "id": "dQACZt2XSg6f"
      },
      "execution_count": null,
      "outputs": []
    },
    {
      "cell_type": "code",
      "source": [
        "plt.scatter(X[y_kmeans == 0, -8], X[y_kmeans == 0, -9], s = 100, c = 'red', label = 'Cluster 1')\n",
        "plt.scatter(X[y_kmeans == 1, -8], X[y_kmeans == 1, -9], s = 100, c = 'blue', label = 'Cluster 2')\n",
        "plt.scatter(X[y_kmeans == 2, -8], X[y_kmeans == 2, -9], s = 100, c = 'green', label = 'Cluster 3')\n",
        "plt.scatter(X[y_kmeans == 3, -8], X[y_kmeans == 3, -9], s = 100, c = 'cyan', label = 'Cluster 4')\n",
        "\n",
        "plt.scatter(kmeans.cluster_centers_[:, -8], kmeans.cluster_centers_[:, -9], s = 300, c = 'yellow', label = 'Centroids')\n",
        "plt.title('Clusters of weather')\n",
        "plt.xlabel('pressure9am')\n",
        "plt.ylabel('humidity3pm')\n",
        "plt.legend()\n",
        "plt.show()"
      ],
      "metadata": {
        "id": "Mdcw-N9ITBSW"
      },
      "execution_count": null,
      "outputs": []
    }
  ]
}